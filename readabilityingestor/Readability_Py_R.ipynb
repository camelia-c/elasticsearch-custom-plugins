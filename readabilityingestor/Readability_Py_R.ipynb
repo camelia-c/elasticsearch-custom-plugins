{
  "nbformat": 4,
  "nbformat_minor": 0,
  "metadata": {
    "colab": {
      "name": "Readability_Py_R.ipynb",
      "provenance": [],
      "collapsed_sections": []
    },
    "kernelspec": {
      "name": "python3",
      "display_name": "Python 3"
    },
    "language_info": {
      "name": "python"
    }
  },
  "cells": [
    {
      "cell_type": "markdown",
      "metadata": {
        "id": "gnwgy017ZJLp"
      },
      "source": [
        "# Readability metrics in Python and in R"
      ]
    },
    {
      "cell_type": "markdown",
      "metadata": {
        "id": "LU-ilUPtaJ3O"
      },
      "source": [
        "**AUTHOR: CAMELIA CIOLAC**"
      ]
    },
    {
      "cell_type": "markdown",
      "metadata": {
        "id": "BrXz7KN__VU1"
      },
      "source": [
        "### Preamble"
      ]
    },
    {
      "cell_type": "markdown",
      "metadata": {
        "id": "phOmvbZJ_Ye-"
      },
      "source": [
        "The readability metrics illustrated in this notebook were introduced decades ago(see [1]):\n",
        "\n",
        "- 1948 - Flesch's Reading Ease Score \n",
        "- 1948 - Dale-Chall Readability formula\n",
        "- 1967 - Automated Readability Index \n",
        "- 1969 - SMOG\n",
        "- 1975 - Coleman-Liau Index \n",
        "- 1975 - Flesch-Kincaid Readability Score\n",
        "\n",
        "\n",
        "Also, they have the following interpretability:\n",
        "\n",
        "- produce an approximate representation of the US grade level needed to comprehend the text:  \n",
        "    * Automated Readability Index \n",
        "    * Flesch–Kincaid grade level\n",
        "    * Coleman–Liau index \n",
        "    * SMOG\n",
        "- produce a score on a scale:\n",
        "    * Flesch reading ease\n",
        "    * Dale–Chall readability formula\n",
        "\n",
        "\n",
        "[1] https://quanteda.io/reference/textstat_readability.html"
      ]
    },
    {
      "cell_type": "markdown",
      "metadata": {
        "id": "PfCSTYOcaWDe"
      },
      "source": [
        "### Readability metrics in Python with Textstat"
      ]
    },
    {
      "cell_type": "code",
      "metadata": {
        "colab": {
          "base_uri": "https://localhost:8080/"
        },
        "id": "4XYOQd8nTcX3",
        "outputId": "1c885085-7f72-489f-9eae-98b27e1df3fc"
      },
      "source": [
        "!pip install -q textstat"
      ],
      "execution_count": null,
      "outputs": [
        {
          "output_type": "stream",
          "text": [
            "\u001b[K     |████████████████████████████████| 102kB 4.3MB/s \n",
            "\u001b[K     |████████████████████████████████| 1.9MB 8.6MB/s \n",
            "\u001b[?25h"
          ],
          "name": "stdout"
        }
      ]
    },
    {
      "cell_type": "code",
      "metadata": {
        "colab": {
          "base_uri": "https://localhost:8080/"
        },
        "id": "97nvjg8_Tgw7",
        "outputId": "a1667ba8-329c-434e-8c9b-71b9f4847189"
      },
      "source": [
        "!pip show textstat"
      ],
      "execution_count": null,
      "outputs": [
        {
          "output_type": "stream",
          "text": [
            "Name: textstat\n",
            "Version: 0.7.1\n",
            "Summary: Calculate statistical features from text\n",
            "Home-page: https://github.com/shivam5992/textstat\n",
            "Author: Shivam Bansal, Chaitanya Aggarwal\n",
            "Author-email: shivam5992@gmail.com\n",
            "License: MIT\n",
            "Location: /usr/local/lib/python3.7/dist-packages\n",
            "Requires: pyphen\n",
            "Required-by: \n"
          ],
          "name": "stdout"
        }
      ]
    },
    {
      "cell_type": "code",
      "metadata": {
        "id": "AK_U9EioTj7K"
      },
      "source": [
        "import textstat\n",
        "\n",
        "import pandas as pd\n",
        "from collections import OrderedDict\n",
        "import pprint"
      ],
      "execution_count": null,
      "outputs": []
    },
    {
      "cell_type": "code",
      "metadata": {
        "colab": {
          "base_uri": "https://localhost:8080/"
        },
        "id": "XfRDEqYJTm9X",
        "outputId": "770955f4-3057-4226-8945-3f3aba95687f"
      },
      "source": [
        "[ el for el in dir(textstat) if el[0] != \"_\"]"
      ],
      "execution_count": null,
      "outputs": [
        {
          "output_type": "execute_result",
          "data": {
            "text/plain": [
              "['attribute',\n",
              " 'automated_readability_index',\n",
              " 'avg_character_per_word',\n",
              " 'avg_letter_per_word',\n",
              " 'avg_sentence_length',\n",
              " 'avg_sentence_per_word',\n",
              " 'avg_syllables_per_word',\n",
              " 'char_count',\n",
              " 'coleman_liau_index',\n",
              " 'crawford',\n",
              " 'dale_chall_readability_score',\n",
              " 'dale_chall_readability_score_v2',\n",
              " 'difficult_words',\n",
              " 'difficult_words_list',\n",
              " 'fernandez_huerta',\n",
              " 'flesch_kincaid_grade',\n",
              " 'flesch_reading_ease',\n",
              " 'gunning_fog',\n",
              " 'gutierrez_polini',\n",
              " 'is_difficult_word',\n",
              " 'is_easy_word',\n",
              " 'letter_count',\n",
              " 'lexicon_count',\n",
              " 'linsear_write_formula',\n",
              " 'lix',\n",
              " 'polysyllabcount',\n",
              " 'pyphen',\n",
              " 'reading_time',\n",
              " 'remove_punctuation',\n",
              " 'rix',\n",
              " 'sentence_count',\n",
              " 'set_lang',\n",
              " 'smog_index',\n",
              " 'spache_readability',\n",
              " 'syllable_count',\n",
              " 'szigriszt_pazos',\n",
              " 'text_standard',\n",
              " 'textstat']"
            ]
          },
          "metadata": {
            "tags": []
          },
          "execution_count": 4
        }
      ]
    },
    {
      "cell_type": "code",
      "metadata": {
        "colab": {
          "base_uri": "https://localhost:8080/"
        },
        "id": "HMNYkTCdbJqr",
        "outputId": "c1623f5e-6ec0-4ecc-d4f8-aa2bd1da05ac"
      },
      "source": [
        "help(textstat.automated_readability_index)"
      ],
      "execution_count": null,
      "outputs": [
        {
          "output_type": "stream",
          "text": [
            "Help on method automated_readability_index in module textstat.textstat:\n",
            "\n",
            "automated_readability_index(text) method of textstat.textstat.textstatistics instance\n",
            "\n"
          ],
          "name": "stdout"
        }
      ]
    },
    {
      "cell_type": "code",
      "metadata": {
        "id": "xiejD559UYn-"
      },
      "source": [
        "texts = []\n",
        "\n",
        "# source: https://www.elastic.co/guide/en/elasticsearch/reference/current/elasticsearch-intro.html\n",
        "texts.append(\"\"\"Elasticsearch is the distributed search and analytics engine at the heart of the Elastic Stack. Elasticsearch is where the indexing, search, and analysis magic happens. It provides scalable \n",
        "search, has near real-time search, and supports multitenancy. Elasticsearch provides near real-time search and analytics for all types of data. Whether you have structured or unstructured text, \n",
        "numerical data, or geospatial data, Elasticsearch can efficiently store and index it in a way that supports fast searches. You can go far beyond simple data retrieval and aggregate information to discover \n",
        "trends and patterns in your data. \"\"\")\n",
        "\n",
        "#source: https://en.wikipedia.org/wiki/Readability\n",
        "texts.append(\"\"\"Readability is the ease with which a reader can understand a written text. In natural language, the readability of text depends on its content (the complexity of its vocabulary and syntax) \n",
        "and its presentation (such as typographic aspects that affect legibility, like font size, line height, character spacing, and line length).\"\"\")\n",
        "\n",
        "#source: https://en.wikipedia.org/wiki/Smart_city\n",
        "texts.append(\"\"\"A smart city is an urban area that uses different types of electronic methods and sensors to collect data. Insights gained from that data are used to manage assets, \n",
        "resources and services efficiently; in return, that data is used to improve the operations across the city. This includes data collected from citizens, devices, buildings and assets that \n",
        "is then processed and analyzed to monitor and manage traffic and transportation systems, power plants, utilities, water supply networks, waste, crime detection, information systems, schools, \n",
        "libraries, hospitals, and other community services.\"\"\")\n",
        "\n",
        "#source: https://kids.britannica.com/kids/article/city/352965\n",
        "texts.append(\"\"\"A city is a place where many people live closely together. City life has many benefits. Cities bring together a great variety of people from different backgrounds. \n",
        "They offer more jobs, more schools, and more kinds of activities than smaller towns and villages. But cities also can be dangerous and polluted. A city’s central business district, \n",
        "or downtown, usually has its tallest office buildings and biggest stores. The downtown area is often the oldest part of the city. A city usually has one or more areas of factories and warehouses \n",
        "(storage buildings) outside of downtown. Most of the city’s homes lie still farther from downtown.\"\"\")\n",
        "\n"
      ],
      "execution_count": null,
      "outputs": []
    },
    {
      "cell_type": "code",
      "metadata": {
        "id": "JetV0GeeVIEV"
      },
      "source": [
        "def analyze_text(txt):\n",
        "\n",
        "    dict_res = OrderedDict()\n",
        "    print(\"\\n---------------------------------------------------------------------\")\n",
        "    print(txt)\n",
        "    print(\"---------------------------------------------------------------------\")\n",
        "    dict_res[\"num_sentences\"] = textstat.sentence_count(txt)\n",
        "    dict_res[\"num_difficult_word\"] = textstat.difficult_words(txt)\n",
        "    dict_res[\"num_polysyllab\"] = textstat.polysyllabcount(txt)\n",
        "    dict_res[\"num_syllables\"] = textstat.syllable_count(txt)\n",
        "    dict_res[\"num_chars\"] = textstat.char_count(txt)\n",
        "    dict_res[\"num_letters\"] = textstat.letter_count(txt)\n",
        "    dict_res[\"difficult_words_list\"] = textstat.difficult_words_list(txt)\n",
        "\n",
        "    dict_res[\"ARI_gd\"] = textstat.automated_readability_index(txt)\n",
        "    dict_res[\"FK_gd\"] = textstat.flesch_kincaid_grade(txt)\n",
        "    dict_res[\"CL_gd\"] = textstat.coleman_liau_index(txt)\n",
        "    dict_res[\"SMOG_gd\"] = textstat.smog_index(txt)\n",
        "    dict_res[\"FK\"] = textstat.flesch_reading_ease(txt)\n",
        "    dict_res[\"DC\"] = textstat.dale_chall_readability_score_v2(txt) \n",
        "\n",
        "    return dict_res"
      ],
      "execution_count": null,
      "outputs": []
    },
    {
      "cell_type": "code",
      "metadata": {
        "colab": {
          "base_uri": "https://localhost:8080/"
        },
        "id": "IWzGB6iwVH4R",
        "outputId": "98b475a3-0eb6-40cf-99a0-ddf2e6a6a591"
      },
      "source": [
        "pp = pprint.PrettyPrinter(width=100, compact=True)\n",
        "\n",
        "list_res = []\n",
        "for txt in texts:\n",
        "    dict_res = analyze_text(txt)\n",
        "    pp.pprint(dict_res)\n",
        "    dict_res[\"txt_snippet\"] = txt[0:90]\n",
        "    list_res.append(dict_res)"
      ],
      "execution_count": null,
      "outputs": [
        {
          "output_type": "stream",
          "text": [
            "\n",
            "---------------------------------------------------------------------\n",
            "Elasticsearch is the distributed search and analytics engine at the heart of the Elastic Stack. Elasticsearch is where the indexing, search, and analysis magic happens. It provides scalable \n",
            "search, has near real-time search, and supports multitenancy. Elasticsearch provides near real-time search and analytics for all types of data. Whether you have structured or unstructured text, \n",
            "numerical data, or geospatial data, Elasticsearch can efficiently store and index it in a way that supports fast searches. You can go far beyond simple data retrieval and aggregate information to discover \n",
            "trends and patterns in your data. \n",
            "---------------------------------------------------------------------\n",
            "OrderedDict([('num_sentences', 6), ('num_difficult_word', 24), ('num_polysyllab', 18),\n",
            "             ('num_syllables', 159), ('num_chars', 533), ('num_letters', 518),\n",
            "             ('difficult_words_list',\n",
            "              ['distributed', 'indexing', 'supports', 'multitenancy', 'aggregate', 'provides',\n",
            "               'geospatial', 'numerical', 'elasticsearch', 'index', 'patterns', 'structured',\n",
            "               'retrieval', 'data', 'elastic', 'information', 'efficiently', 'scalable', 'happens',\n",
            "               'beyond', 'searches', 'analytics', 'unstructured', 'analysis']),\n",
            "             ('ARI_gd', 13.3), ('FK_gd', 10.5), ('CL_gd', 14.73), ('SMOG_gd', 13.0), ('FK', 47.28),\n",
            "             ('DC', 8.48)])\n",
            "\n",
            "---------------------------------------------------------------------\n",
            "Readability is the ease with which a reader can understand a written text. In natural language, the readability of text depends on its content (the complexity of its vocabulary and syntax) \n",
            "and its presentation (such as typographic aspects that affect legibility, like font size, line height, character spacing, and line length).\n",
            "---------------------------------------------------------------------\n",
            "OrderedDict([('num_sentences', 2), ('num_difficult_word', 14), ('num_polysyllab', 10),\n",
            "             ('num_syllables', 88), ('num_chars', 279), ('num_letters', 268),\n",
            "             ('difficult_words_list',\n",
            "              ['readability', 'depends', 'aspects', 'syntax', 'affect', 'complexity', 'content',\n",
            "               'legibility', 'presentation', 'typographic', 'character', 'vocabulary', 'natural',\n",
            "               'spacing']),\n",
            "             ('ARI_gd', 17.1), ('FK_gd', 14.4), ('CL_gd', 13.47), ('SMOG_gd', 0.0), ('FK', 37.13),\n",
            "             ('DC', 9.24)])\n",
            "\n",
            "---------------------------------------------------------------------\n",
            "A smart city is an urban area that uses different types of electronic methods and sensors to collect data. Insights gained from that data are used to manage assets, \n",
            "resources and services efficiently; in return, that data is used to improve the operations across the city. This includes data collected from citizens, devices, buildings and assets that \n",
            "is then processed and analyzed to monitor and manage traffic and transportation systems, power plants, utilities, water supply networks, waste, crime detection, information systems, schools, \n",
            "libraries, hospitals, and other community services.\n",
            "---------------------------------------------------------------------\n",
            "OrderedDict([('num_sentences', 3), ('num_difficult_word', 33), ('num_polysyllab', 14),\n",
            "             ('num_syllables', 152), ('num_chars', 510), ('num_letters', 492),\n",
            "             ('difficult_words_list',\n",
            "              ['insights', 'analyzed', 'resources', 'services', 'collected', 'transportation',\n",
            "               'systems', 'monitor', 'electronic', 'citizens', 'assets', 'operations', 'libraries',\n",
            "               'processed', 'utilities', 'data', 'supply', 'detection', 'includes', 'uses', 'urban',\n",
            "               'information', 'sensors', 'community', 'efficiently', 'hospitals', 'buildings',\n",
            "               'collect', 'manage', 'networks', 'devices', 'methods', 'traffic']),\n",
            "             ('ARI_gd', 20.6), ('FK_gd', 15.9), ('CL_gd', 15.73), ('SMOG_gd', 15.5), ('FK', 33.28),\n",
            "             ('DC', 11.01)])\n",
            "\n",
            "---------------------------------------------------------------------\n",
            "A city is a place where many people live closely together. City life has many benefits. Cities bring together a great variety of people from different backgrounds. \n",
            "They offer more jobs, more schools, and more kinds of activities than smaller towns and villages. But cities also can be dangerous and polluted. A city’s central business district, \n",
            "or downtown, usually has its tallest office buildings and biggest stores. The downtown area is often the oldest part of the city. A city usually has one or more areas of factories and warehouses \n",
            "(storage buildings) outside of downtown. Most of the city’s homes lie still farther from downtown.\n",
            "---------------------------------------------------------------------\n",
            "OrderedDict([('num_sentences', 8), ('num_difficult_word', 18), ('num_polysyllab', 12),\n",
            "             ('num_syllables', 156), ('num_chars', 537), ('num_letters', 522),\n",
            "             ('difficult_words_list',\n",
            "              ['closely', 'backgrounds', 'villages', 'central', 'variety', 'polluted', 'warehouses',\n",
            "               'district', 'factories', 'benefits', 'biggest', 'smaller', 'buildings', 'areas',\n",
            "               'oldest', 'usually', 'storage', 'activities']),\n",
            "             ('ARI_gd', 9.2), ('FK_gd', 7.2), ('CL_gd', 10.66), ('SMOG_gd', 10.1), ('FK', 66.64),\n",
            "             ('DC', 6.99)])\n"
          ],
          "name": "stdout"
        }
      ]
    },
    {
      "cell_type": "markdown",
      "metadata": {
        "id": "be4G8zWBDG-t"
      },
      "source": [
        "We observe that the result ontains incorrect number of sentences forlast text (8 instead of expected 9)"
      ]
    },
    {
      "cell_type": "code",
      "metadata": {
        "colab": {
          "base_uri": "https://localhost:8080/",
          "height": 175
        },
        "id": "5xoBga66jo9V",
        "outputId": "e905409a-cffe-4bdc-bc88-1034e660541f"
      },
      "source": [
        "df = pd.DataFrame(list_res)\n",
        "df"
      ],
      "execution_count": null,
      "outputs": [
        {
          "output_type": "execute_result",
          "data": {
            "text/html": [
              "<div>\n",
              "<style scoped>\n",
              "    .dataframe tbody tr th:only-of-type {\n",
              "        vertical-align: middle;\n",
              "    }\n",
              "\n",
              "    .dataframe tbody tr th {\n",
              "        vertical-align: top;\n",
              "    }\n",
              "\n",
              "    .dataframe thead th {\n",
              "        text-align: right;\n",
              "    }\n",
              "</style>\n",
              "<table border=\"1\" class=\"dataframe\">\n",
              "  <thead>\n",
              "    <tr style=\"text-align: right;\">\n",
              "      <th></th>\n",
              "      <th>num_sentences</th>\n",
              "      <th>num_difficult_word</th>\n",
              "      <th>num_polysyllab</th>\n",
              "      <th>num_syllables</th>\n",
              "      <th>num_chars</th>\n",
              "      <th>num_letters</th>\n",
              "      <th>difficult_words_list</th>\n",
              "      <th>ARI_gd</th>\n",
              "      <th>FK_gd</th>\n",
              "      <th>CL_gd</th>\n",
              "      <th>SMOG_gd</th>\n",
              "      <th>FK</th>\n",
              "      <th>DC</th>\n",
              "      <th>txt_snippet</th>\n",
              "    </tr>\n",
              "  </thead>\n",
              "  <tbody>\n",
              "    <tr>\n",
              "      <th>0</th>\n",
              "      <td>6</td>\n",
              "      <td>24</td>\n",
              "      <td>18</td>\n",
              "      <td>159</td>\n",
              "      <td>533</td>\n",
              "      <td>518</td>\n",
              "      <td>[distributed, indexing, supports, multitenancy...</td>\n",
              "      <td>13.3</td>\n",
              "      <td>10.5</td>\n",
              "      <td>14.73</td>\n",
              "      <td>13.0</td>\n",
              "      <td>47.28</td>\n",
              "      <td>8.48</td>\n",
              "      <td>Elasticsearch is the distributed search and an...</td>\n",
              "    </tr>\n",
              "    <tr>\n",
              "      <th>1</th>\n",
              "      <td>2</td>\n",
              "      <td>14</td>\n",
              "      <td>10</td>\n",
              "      <td>88</td>\n",
              "      <td>279</td>\n",
              "      <td>268</td>\n",
              "      <td>[readability, depends, aspects, syntax, affect...</td>\n",
              "      <td>17.1</td>\n",
              "      <td>14.4</td>\n",
              "      <td>13.47</td>\n",
              "      <td>0.0</td>\n",
              "      <td>37.13</td>\n",
              "      <td>9.24</td>\n",
              "      <td>Readability is the ease with which a reader ca...</td>\n",
              "    </tr>\n",
              "    <tr>\n",
              "      <th>2</th>\n",
              "      <td>3</td>\n",
              "      <td>33</td>\n",
              "      <td>14</td>\n",
              "      <td>152</td>\n",
              "      <td>510</td>\n",
              "      <td>492</td>\n",
              "      <td>[insights, analyzed, resources, services, coll...</td>\n",
              "      <td>20.6</td>\n",
              "      <td>15.9</td>\n",
              "      <td>15.73</td>\n",
              "      <td>15.5</td>\n",
              "      <td>33.28</td>\n",
              "      <td>11.01</td>\n",
              "      <td>A smart city is an urban area that uses differ...</td>\n",
              "    </tr>\n",
              "    <tr>\n",
              "      <th>3</th>\n",
              "      <td>8</td>\n",
              "      <td>18</td>\n",
              "      <td>12</td>\n",
              "      <td>156</td>\n",
              "      <td>537</td>\n",
              "      <td>522</td>\n",
              "      <td>[closely, backgrounds, villages, central, vari...</td>\n",
              "      <td>9.2</td>\n",
              "      <td>7.2</td>\n",
              "      <td>10.66</td>\n",
              "      <td>10.1</td>\n",
              "      <td>66.64</td>\n",
              "      <td>6.99</td>\n",
              "      <td>A city is a place where many people live close...</td>\n",
              "    </tr>\n",
              "  </tbody>\n",
              "</table>\n",
              "</div>"
            ],
            "text/plain": [
              "   num_sentences  ...                                        txt_snippet\n",
              "0              6  ...  Elasticsearch is the distributed search and an...\n",
              "1              2  ...  Readability is the ease with which a reader ca...\n",
              "2              3  ...  A smart city is an urban area that uses differ...\n",
              "3              8  ...  A city is a place where many people live close...\n",
              "\n",
              "[4 rows x 14 columns]"
            ]
          },
          "metadata": {
            "tags": []
          },
          "execution_count": 9
        }
      ]
    },
    {
      "cell_type": "code",
      "metadata": {
        "colab": {
          "base_uri": "https://localhost:8080/",
          "height": 331
        },
        "id": "GGdXLZfZzwZl",
        "outputId": "bc483d9e-6fe6-45b9-9331-4439879b4e55"
      },
      "source": [
        "for col in [\"ARI_gd\", \"FK_gd\", \"CL_gd\", \"SMOG_gd\", \"DC\"]:\n",
        "    #How to rank the group of records that have the same value (i.e. ties): average rank of the group\n",
        "    df[col + \"_rank\"] = df[col].rank(method='average')\n",
        "\n",
        "#Note: readability is considered to be better when the `flesch_reading_ease` is higher \n",
        "for col in [\"FK\"]:\n",
        "    #How to rank the group of records that have the same value (i.e. ties): average rank of the group\n",
        "    df[col + \"_rank\"] = df[col].rank(method='average', ascending = False)\n",
        "\n",
        "df.drop(columns=[\"difficult_words_list\"], inplace = False)"
      ],
      "execution_count": null,
      "outputs": [
        {
          "output_type": "execute_result",
          "data": {
            "text/html": [
              "<div>\n",
              "<style scoped>\n",
              "    .dataframe tbody tr th:only-of-type {\n",
              "        vertical-align: middle;\n",
              "    }\n",
              "\n",
              "    .dataframe tbody tr th {\n",
              "        vertical-align: top;\n",
              "    }\n",
              "\n",
              "    .dataframe thead th {\n",
              "        text-align: right;\n",
              "    }\n",
              "</style>\n",
              "<table border=\"1\" class=\"dataframe\">\n",
              "  <thead>\n",
              "    <tr style=\"text-align: right;\">\n",
              "      <th></th>\n",
              "      <th>num_sentences</th>\n",
              "      <th>num_difficult_word</th>\n",
              "      <th>num_polysyllab</th>\n",
              "      <th>num_syllables</th>\n",
              "      <th>num_chars</th>\n",
              "      <th>num_letters</th>\n",
              "      <th>ARI_gd</th>\n",
              "      <th>FK_gd</th>\n",
              "      <th>CL_gd</th>\n",
              "      <th>SMOG_gd</th>\n",
              "      <th>FK</th>\n",
              "      <th>DC</th>\n",
              "      <th>txt_snippet</th>\n",
              "      <th>ARI_gd_rank</th>\n",
              "      <th>FK_gd_rank</th>\n",
              "      <th>CL_gd_rank</th>\n",
              "      <th>SMOG_gd_rank</th>\n",
              "      <th>DC_rank</th>\n",
              "      <th>FK_rank</th>\n",
              "    </tr>\n",
              "  </thead>\n",
              "  <tbody>\n",
              "    <tr>\n",
              "      <th>0</th>\n",
              "      <td>6</td>\n",
              "      <td>24</td>\n",
              "      <td>18</td>\n",
              "      <td>159</td>\n",
              "      <td>533</td>\n",
              "      <td>518</td>\n",
              "      <td>13.3</td>\n",
              "      <td>10.5</td>\n",
              "      <td>14.73</td>\n",
              "      <td>13.0</td>\n",
              "      <td>47.28</td>\n",
              "      <td>8.48</td>\n",
              "      <td>Elasticsearch is the distributed search and an...</td>\n",
              "      <td>2.0</td>\n",
              "      <td>2.0</td>\n",
              "      <td>3.0</td>\n",
              "      <td>3.0</td>\n",
              "      <td>2.0</td>\n",
              "      <td>2.0</td>\n",
              "    </tr>\n",
              "    <tr>\n",
              "      <th>1</th>\n",
              "      <td>2</td>\n",
              "      <td>14</td>\n",
              "      <td>10</td>\n",
              "      <td>88</td>\n",
              "      <td>279</td>\n",
              "      <td>268</td>\n",
              "      <td>17.1</td>\n",
              "      <td>14.4</td>\n",
              "      <td>13.47</td>\n",
              "      <td>0.0</td>\n",
              "      <td>37.13</td>\n",
              "      <td>9.24</td>\n",
              "      <td>Readability is the ease with which a reader ca...</td>\n",
              "      <td>3.0</td>\n",
              "      <td>3.0</td>\n",
              "      <td>2.0</td>\n",
              "      <td>1.0</td>\n",
              "      <td>3.0</td>\n",
              "      <td>3.0</td>\n",
              "    </tr>\n",
              "    <tr>\n",
              "      <th>2</th>\n",
              "      <td>3</td>\n",
              "      <td>33</td>\n",
              "      <td>14</td>\n",
              "      <td>152</td>\n",
              "      <td>510</td>\n",
              "      <td>492</td>\n",
              "      <td>20.6</td>\n",
              "      <td>15.9</td>\n",
              "      <td>15.73</td>\n",
              "      <td>15.5</td>\n",
              "      <td>33.28</td>\n",
              "      <td>11.01</td>\n",
              "      <td>A smart city is an urban area that uses differ...</td>\n",
              "      <td>4.0</td>\n",
              "      <td>4.0</td>\n",
              "      <td>4.0</td>\n",
              "      <td>4.0</td>\n",
              "      <td>4.0</td>\n",
              "      <td>4.0</td>\n",
              "    </tr>\n",
              "    <tr>\n",
              "      <th>3</th>\n",
              "      <td>8</td>\n",
              "      <td>18</td>\n",
              "      <td>12</td>\n",
              "      <td>156</td>\n",
              "      <td>537</td>\n",
              "      <td>522</td>\n",
              "      <td>9.2</td>\n",
              "      <td>7.2</td>\n",
              "      <td>10.66</td>\n",
              "      <td>10.1</td>\n",
              "      <td>66.64</td>\n",
              "      <td>6.99</td>\n",
              "      <td>A city is a place where many people live close...</td>\n",
              "      <td>1.0</td>\n",
              "      <td>1.0</td>\n",
              "      <td>1.0</td>\n",
              "      <td>2.0</td>\n",
              "      <td>1.0</td>\n",
              "      <td>1.0</td>\n",
              "    </tr>\n",
              "  </tbody>\n",
              "</table>\n",
              "</div>"
            ],
            "text/plain": [
              "   num_sentences  num_difficult_word  ...  DC_rank  FK_rank\n",
              "0              6                  24  ...      2.0      2.0\n",
              "1              2                  14  ...      3.0      3.0\n",
              "2              3                  33  ...      4.0      4.0\n",
              "3              8                  18  ...      1.0      1.0\n",
              "\n",
              "[4 rows x 19 columns]"
            ]
          },
          "metadata": {
            "tags": []
          },
          "execution_count": 10
        }
      ]
    },
    {
      "cell_type": "markdown",
      "metadata": {
        "id": "F_aF-mAnf13d"
      },
      "source": [
        "-----------------------------"
      ]
    },
    {
      "cell_type": "markdown",
      "metadata": {
        "id": "GkXIT0RDZUf4"
      },
      "source": [
        "### Readability metrics in R with Quanteda"
      ]
    },
    {
      "cell_type": "code",
      "metadata": {
        "id": "BJK3Hqm70o9b"
      },
      "source": [
        "%load_ext rpy2.ipython"
      ],
      "execution_count": null,
      "outputs": []
    },
    {
      "cell_type": "markdown",
      "metadata": {
        "id": "YCbTyB49gAH2"
      },
      "source": [
        "See:  \n",
        "https://quanteda.io/articles/quickstart.html    \n",
        "https://cran.r-project.org/web/packages/quanteda.textstats/index.html  \n",
        "https://cran.r-project.org/web/packages/quanteda.textstats/quanteda.textstats.pdf"
      ]
    },
    {
      "cell_type": "code",
      "metadata": {
        "colab": {
          "base_uri": "https://localhost:8080/"
        },
        "id": "k_rPVNDyZGIM",
        "outputId": "dec32ab1-5bbf-42e3-c3f6-99a2b6005956"
      },
      "source": [
        "%%R\n",
        "install.packages(\"quanteda\", quiet = TRUE) \n",
        "install.packages(\"quanteda.textstats\", quiet = TRUE) "
      ],
      "execution_count": null,
      "outputs": [
        {
          "output_type": "stream",
          "text": [
            "R[write to console]: also installing the dependencies ‘ISOcodes’, ‘fastmatch’, ‘RcppParallel’, ‘SnowballC’, ‘stopwords’, ‘RcppArmadillo’\n",
            "\n",
            "\n",
            "R[write to console]: also installing the dependencies ‘nsyllable’, ‘proxyC’\n",
            "\n",
            "\n"
          ],
          "name": "stderr"
        }
      ]
    },
    {
      "cell_type": "code",
      "metadata": {
        "id": "MJE5TwB7ZGFP",
        "colab": {
          "base_uri": "https://localhost:8080/"
        },
        "outputId": "4f8716fb-0847-4550-e47b-363ea41138cf"
      },
      "source": [
        "%%R\n",
        "library(quanteda)\n",
        "library(quanteda.textstats)\n",
        "library(nsyllable)"
      ],
      "execution_count": null,
      "outputs": [
        {
          "output_type": "stream",
          "text": [
            "R[write to console]: Package version: 3.0.0\n",
            "Unicode version: 10.0\n",
            "ICU version: 60.2\n",
            "\n",
            "R[write to console]: Parallel computing: 2 of 2 threads used.\n",
            "\n",
            "R[write to console]: See https://quanteda.io for tutorials and examples.\n",
            "\n"
          ],
          "name": "stderr"
        }
      ]
    },
    {
      "cell_type": "code",
      "metadata": {
        "colab": {
          "base_uri": "https://localhost:8080/"
        },
        "id": "WwRPReslX8CG",
        "outputId": "cf841730-076e-4010-d5a9-c3e91405721d"
      },
      "source": [
        "%%R\n",
        "ls(\"package:quanteda.textstats\")"
      ],
      "execution_count": null,
      "outputs": [
        {
          "output_type": "stream",
          "text": [
            " [1] \"as.matrix\"             \"data_char_wordlists\"   \"nscrabble\"            \n",
            " [4] \"show\"                  \"textstat_collocations\" \"textstat_dist\"        \n",
            " [7] \"textstat_entropy\"      \"textstat_frequency\"    \"textstat_keyness\"     \n",
            "[10] \"textstat_lexdiv\"       \"textstat_proxy\"        \"textstat_readability\" \n",
            "[13] \"textstat_select\"       \"textstat_simil\"        \"textstat_summary\"     \n"
          ],
          "name": "stdout"
        }
      ]
    },
    {
      "cell_type": "code",
      "metadata": {
        "colab": {
          "base_uri": "https://localhost:8080/"
        },
        "id": "6xTUNhznX3pp",
        "outputId": "a242d11e-6cd7-4355-f48a-2edade4ee451"
      },
      "source": [
        "%%R\n",
        "\n",
        "formalArgs(quanteda.textstats::textstat_readability)"
      ],
      "execution_count": null,
      "outputs": [
        {
          "output_type": "stream",
          "text": [
            "[1] \"x\"                   \"measure\"             \"remove_hyphens\"     \n",
            "[4] \"min_sentence_length\" \"max_sentence_length\" \"intermediate\"       \n",
            "[7] \"...\"                \n"
          ],
          "name": "stdout"
        }
      ]
    },
    {
      "cell_type": "code",
      "metadata": {
        "id": "LfcWNcyOMLW3"
      },
      "source": [
        "%%R\n",
        "\n",
        "t1 = 'Elasticsearch is the distributed search and analytics engine at the heart of the Elastic Stack. Elasticsearch is where the indexing, search, and analysis magic happens. It provides scalable \n",
        "search, has near real-time search, and supports multitenancy. Elasticsearch provides near real-time search and analytics for all types of data. Whether you have structured or unstructured text, \n",
        "numerical data, or geospatial data, Elasticsearch can efficiently store and index it in a way that supports fast searches. You can go far beyond simple data retrieval and aggregate information to discover \n",
        "trends and patterns in your data.'\n",
        "\n",
        "\n",
        "t2 = 'Readability is the ease with which a reader can understand a written text. In natural language, the readability of text depends on its content (the complexity of its vocabulary and syntax) \n",
        "and its presentation (such as typographic aspects that affect legibility, like font size, line height, character spacing, and line length).'\n",
        "\n",
        "t3 = 'A smart city is an urban area that uses different types of electronic methods and sensors to collect data. Insights gained from that data are used to manage assets, \n",
        "resources and services efficiently; in return, that data is used to improve the operations across the city. This includes data collected from citizens, devices, buildings and assets that \n",
        "is then processed and analyzed to monitor and manage traffic and transportation systems, power plants, utilities, water supply networks, waste, crime detection, information systems, schools, \n",
        "libraries, hospitals, and other community services.'\n",
        "\n",
        "t4 = 'A city is a place where many people live closely together. City life has many benefits. Cities bring together a great variety of people from different backgrounds. \n",
        "They offer more jobs, more schools, and more kinds of activities than smaller towns and villages. But cities also can be dangerous and polluted. A city’s central business district, \n",
        "or downtown, usually has its tallest office buildings and biggest stores. The downtown area is often the oldest part of the city. A city usually has one or more areas of factories and warehouses \n",
        "(storage buildings) outside of downtown. Most of the city’s homes lie still farther from downtown.'\n"
      ],
      "execution_count": null,
      "outputs": []
    },
    {
      "cell_type": "code",
      "metadata": {
        "id": "ua5TwHx1ZGBv"
      },
      "source": [
        "%%R\n",
        "txts <- c(text1 = t1, \n",
        "          text2 = t2,\n",
        "          text3 = t3,\n",
        "          text4 = t4)"
      ],
      "execution_count": null,
      "outputs": []
    },
    {
      "cell_type": "code",
      "metadata": {
        "colab": {
          "base_uri": "https://localhost:8080/"
        },
        "id": "gvHSuQ5qqHZQ",
        "outputId": "1d166c3c-8c9c-4855-ba45-ef089f259a59"
      },
      "source": [
        "%%R\n",
        "\n",
        "corpus_txts <- corpus(txts) \n",
        "corpus_summary <- summary(corpus_txts)\n",
        "corpus_summary"
      ],
      "execution_count": null,
      "outputs": [
        {
          "output_type": "stream",
          "text": [
            "Corpus consisting of 4 documents, showing 4 documents:\n",
            "\n",
            "  Text Types Tokens Sentences\n",
            " text1    65    106         6\n",
            " text2    45     62         2\n",
            " text3    66    106         3\n",
            " text4    76    120         9\n",
            "\n"
          ],
          "name": "stdout"
        }
      ]
    },
    {
      "cell_type": "code",
      "metadata": {
        "colab": {
          "base_uri": "https://localhost:8080/"
        },
        "id": "egqKFE5N5kEC",
        "outputId": "d783519f-1b50-439e-f42f-b326d5d2f544"
      },
      "source": [
        "%%R\n",
        "str(corpus_summary)"
      ],
      "execution_count": null,
      "outputs": [
        {
          "output_type": "stream",
          "text": [
            "Classes ‘summary.corpus’ and 'data.frame':\t4 obs. of  4 variables:\n",
            " $ Text     : chr  \"text1\" \"text2\" \"text3\" \"text4\"\n",
            " $ Types    : int  65 45 66 76\n",
            " $ Tokens   : int  106 62 106 120\n",
            " $ Sentences: int  6 2 3 9\n",
            " - attr(*, \"ndoc_all\")= int 4\n",
            " - attr(*, \"ndoc_show\")= int 4\n"
          ],
          "name": "stdout"
        }
      ]
    },
    {
      "cell_type": "code",
      "metadata": {
        "colab": {
          "base_uri": "https://localhost:8080/"
        },
        "id": "MSY--quhyLqj",
        "outputId": "10564c3f-3f09-4eea-bd90-c64011cd3b3d"
      },
      "source": [
        "%%R\n",
        "\n",
        "list_numsyl = c()\n",
        "list_numchar = c()\n",
        "\n",
        "for (i in 1:length(txts)){\n",
        "    txt <- txts[i]\n",
        "    syls <- nsyllable(txt)\n",
        "    chs <- nchar(txt)\n",
        "\n",
        "    #append to list\n",
        "    list_numsyl <- c(list_numsyl, syls)\n",
        "    list_numchar <- c(list_numchar, chs) \n",
        "}\n",
        "\n",
        "#make dataframe from vectors\n",
        "df_aux = data.frame(numsyl = list_numsyl, \n",
        "                    numchar = list_numchar) \n",
        "df_aux"
      ],
      "execution_count": null,
      "outputs": [
        {
          "output_type": "stream",
          "text": [
            "      numsyl numchar\n",
            "text1    178     625\n",
            "text2     97     329\n",
            "text3    177     597\n",
            "text4    185     641\n"
          ],
          "name": "stdout"
        }
      ]
    },
    {
      "cell_type": "code",
      "metadata": {
        "colab": {
          "base_uri": "https://localhost:8080/"
        },
        "id": "InyEKGYH3HFs",
        "outputId": "af3ad07f-9b90-4a20-ab23-9b94db6ab628"
      },
      "source": [
        "%%R\n",
        "\n",
        "#reset index\n",
        "df_aux$document <- rownames(df_aux)\n",
        "rownames(df_aux) <- 1:nrow(df_aux)\n",
        "\n",
        "df_aux"
      ],
      "execution_count": null,
      "outputs": [
        {
          "output_type": "stream",
          "text": [
            "  numsyl numchar document\n",
            "1    178     625    text1\n",
            "2     97     329    text2\n",
            "3    177     597    text3\n",
            "4    185     641    text4\n"
          ],
          "name": "stdout"
        }
      ]
    },
    {
      "cell_type": "code",
      "metadata": {
        "colab": {
          "base_uri": "https://localhost:8080/"
        },
        "id": "gZH7hs1uZF9L",
        "outputId": "5304a900-b56b-4747-e6af-d02198b1d378"
      },
      "source": [
        "%%R\n",
        "\n",
        "#see https://quanteda.io/reference/textstat_readability.html\n",
        "list_metrics  <- c(\"ARI\", \"Coleman.Liau.grade\", \"Coleman.Liau.short\", \"Flesch.Kincaid\", \"Flesch\", \"Dale.Chall.old\", \"Dale.Chall\", \"SMOG\")\n",
        "res <- quanteda.textstats::textstat_readability(txts, measure = list_metrics, remove_hyphens = FALSE, intermediate = TRUE)\n",
        "res"
      ],
      "execution_count": null,
      "outputs": [
        {
          "output_type": "stream",
          "text": [
            "  document      ARI Coleman.Liau.grade Coleman.Liau.short Flesch.Kincaid\n",
            "1    text1 12.50355           14.97726           14.97806      11.644247\n",
            "2    text2 15.97824           13.82166           13.82275      15.409902\n",
            "3    text3 19.40928           15.86381           15.86500      17.975000\n",
            "4    text4  7.68419           10.72641           10.72686       8.401905\n",
            "    Flesch Dale.Chall.old Dale.Chall     SMOG   W St   C  Sy W3Sy W2Sy W_1Sy\n",
            "1 39.18637      10.857128  14.487796 13.55910  93  6 517 167   20   41    52\n",
            "2 29.99956      10.164633  14.738333 15.90319  51  2 267  91   10   19    32\n",
            "3 18.43667      11.550979   4.896364 17.87935  88  3 489 165   20   50    38\n",
            "4 55.60476       6.170119  44.188095 10.50422 105  9 519 173   15   49    56\n",
            "  W6C W7C Wlt3Sy W_wl.Dale.Chall\n",
            "1  40  31     73              38\n",
            "2  21  16     41              17\n",
            "3  41  32     68              36\n",
            "4  40  31     90              13\n"
          ],
          "name": "stdout"
        }
      ]
    },
    {
      "cell_type": "code",
      "metadata": {
        "colab": {
          "base_uri": "https://localhost:8080/"
        },
        "id": "nLphABEIOyBx",
        "outputId": "ba7177f6-38fb-455d-c755-34f458062ceb"
      },
      "source": [
        "%%R\n",
        "\n",
        "str(res)"
      ],
      "execution_count": null,
      "outputs": [
        {
          "output_type": "stream",
          "text": [
            "Classes ‘readability’, ‘textstat’ and 'data.frame':\t4 obs. of  20 variables:\n",
            " $ document          : chr  \"text1\" \"text2\" \"text3\" \"text4\"\n",
            " $ ARI               : num  12.5 15.98 19.41 7.68\n",
            " $ Coleman.Liau.grade: num  15 13.8 15.9 10.7\n",
            " $ Coleman.Liau.short: num  15 13.8 15.9 10.7\n",
            " $ Flesch.Kincaid    : num  11.6 15.4 18 8.4\n",
            " $ Flesch            : num  39.2 30 18.4 55.6\n",
            " $ Dale.Chall.old    : num  10.86 10.16 11.55 6.17\n",
            " $ Dale.Chall        : num  14.5 14.7 4.9 44.2\n",
            " $ SMOG              : num  13.6 15.9 17.9 10.5\n",
            " $ W                 : int  93 51 88 105\n",
            " $ St                : int  6 2 3 9\n",
            " $ C                 : num  517 267 489 519\n",
            " $ Sy                : num  167 91 165 173\n",
            " $ W3Sy              : num  20 10 20 15\n",
            " $ W2Sy              : num  41 19 50 49\n",
            " $ W_1Sy             : num  52 32 38 56\n",
            " $ W6C               : num  40 21 41 40\n",
            " $ W7C               : num  31 16 32 31\n",
            " $ Wlt3Sy            : num  73 41 68 90\n",
            " $ W_wl.Dale.Chall   : int  38 17 36 13\n"
          ],
          "name": "stdout"
        }
      ]
    },
    {
      "cell_type": "code",
      "metadata": {
        "colab": {
          "base_uri": "https://localhost:8080/"
        },
        "id": "9c8Yec5KO_ak",
        "outputId": "65710621-858c-48ff-8ff0-124821e6fcae"
      },
      "source": [
        "%%R\n",
        "\n",
        "#res$ARI_rank <-  rank(res$ARI)\n",
        "\n",
        "for (col_name in list_metrics){\n",
        "    new_col_name <- paste(col_name , \"_rank\", sep=\"\")\n",
        "    res[[new_col_name]] <-  rank(res[[col_name]])\n",
        "}\n",
        "\n",
        "res"
      ],
      "execution_count": null,
      "outputs": [
        {
          "output_type": "stream",
          "text": [
            "  document      ARI Coleman.Liau.grade Coleman.Liau.short Flesch.Kincaid\n",
            "1    text1 12.50355           14.97726           14.97806      11.644247\n",
            "2    text2 15.97824           13.82166           13.82275      15.409902\n",
            "3    text3 19.40928           15.86381           15.86500      17.975000\n",
            "4    text4  7.68419           10.72641           10.72686       8.401905\n",
            "    Flesch Dale.Chall.old Dale.Chall     SMOG   W St   C  Sy W3Sy W2Sy W_1Sy\n",
            "1 39.18637      10.857128  14.487796 13.55910  93  6 517 167   20   41    52\n",
            "2 29.99956      10.164633  14.738333 15.90319  51  2 267  91   10   19    32\n",
            "3 18.43667      11.550979   4.896364 17.87935  88  3 489 165   20   50    38\n",
            "4 55.60476       6.170119  44.188095 10.50422 105  9 519 173   15   49    56\n",
            "  W6C W7C Wlt3Sy W_wl.Dale.Chall ARI_rank Coleman.Liau.grade_rank\n",
            "1  40  31     73              38        2                       3\n",
            "2  21  16     41              17        3                       2\n",
            "3  41  32     68              36        4                       4\n",
            "4  40  31     90              13        1                       1\n",
            "  Coleman.Liau.short_rank Flesch.Kincaid_rank Flesch_rank Dale.Chall.old_rank\n",
            "1                       3                   2           3                   3\n",
            "2                       2                   3           2                   2\n",
            "3                       4                   4           1                   4\n",
            "4                       1                   1           4                   1\n",
            "  Dale.Chall_rank SMOG_rank\n",
            "1               2         2\n",
            "2               3         3\n",
            "3               1         4\n",
            "4               4         1\n"
          ],
          "name": "stdout"
        }
      ]
    },
    {
      "cell_type": "code",
      "metadata": {
        "colab": {
          "base_uri": "https://localhost:8080/"
        },
        "id": "ugOfoBCf3lUd",
        "outputId": "b81a2592-eb89-45cc-ebad-77dfb4ca07f1"
      },
      "source": [
        "%%R\n",
        "\n",
        "#join dataframes by index, all =  TRUE because we want full outer join\n",
        "df_merged <- merge(x = df_aux, y = corpus_summary, by = \"row.names\", all = TRUE)\n",
        "\n",
        "\n",
        "#join dataframes by speified columns\n",
        "df_merged2 <- merge(x = df_merged, y = res, by.x = \"document\", by.y = \"document\", all = TRUE)\n",
        "\n",
        "df_merged2"
      ],
      "execution_count": null,
      "outputs": [
        {
          "output_type": "stream",
          "text": [
            "  document Row.names numsyl numchar  Text Types Tokens Sentences      ARI\n",
            "1    text1         1    178     625 text1    65    106         6 12.50355\n",
            "2    text2         2     97     329 text2    45     62         2 15.97824\n",
            "3    text3         3    177     597 text3    66    106         3 19.40928\n",
            "4    text4         4    185     641 text4    76    120         9  7.68419\n",
            "  Coleman.Liau.grade Coleman.Liau.short Flesch.Kincaid   Flesch Dale.Chall.old\n",
            "1           14.97726           14.97806      11.644247 39.18637      10.857128\n",
            "2           13.82166           13.82275      15.409902 29.99956      10.164633\n",
            "3           15.86381           15.86500      17.975000 18.43667      11.550979\n",
            "4           10.72641           10.72686       8.401905 55.60476       6.170119\n",
            "  Dale.Chall     SMOG   W St   C  Sy W3Sy W2Sy W_1Sy W6C W7C Wlt3Sy\n",
            "1  14.487796 13.55910  93  6 517 167   20   41    52  40  31     73\n",
            "2  14.738333 15.90319  51  2 267  91   10   19    32  21  16     41\n",
            "3   4.896364 17.87935  88  3 489 165   20   50    38  41  32     68\n",
            "4  44.188095 10.50422 105  9 519 173   15   49    56  40  31     90\n",
            "  W_wl.Dale.Chall ARI_rank Coleman.Liau.grade_rank Coleman.Liau.short_rank\n",
            "1              38        2                       3                       3\n",
            "2              17        3                       2                       2\n",
            "3              36        4                       4                       4\n",
            "4              13        1                       1                       1\n",
            "  Flesch.Kincaid_rank Flesch_rank Dale.Chall.old_rank Dale.Chall_rank SMOG_rank\n",
            "1                   2           3                   3               2         2\n",
            "2                   3           2                   2               3         3\n",
            "3                   4           1                   4               1         4\n",
            "4                   1           4                   1               4         1\n"
          ],
          "name": "stdout"
        }
      ]
    },
    {
      "cell_type": "code",
      "metadata": {
        "colab": {
          "base_uri": "https://localhost:8080/"
        },
        "id": "3G1hpWj26zMl",
        "outputId": "2dfedf67-81ca-485a-d3e6-17529c9ddbd7"
      },
      "source": [
        "%%R\n",
        "\n",
        "#drop some columns\n",
        "df_merged3 <- subset(df_merged2, select = -c(Text, Types))\n",
        "\n",
        "df_merged3"
      ],
      "execution_count": null,
      "outputs": [
        {
          "output_type": "stream",
          "text": [
            "  document Row.names numsyl numchar Tokens Sentences      ARI\n",
            "1    text1         1    178     625    106         6 12.50355\n",
            "2    text2         2     97     329     62         2 15.97824\n",
            "3    text3         3    177     597    106         3 19.40928\n",
            "4    text4         4    185     641    120         9  7.68419\n",
            "  Coleman.Liau.grade Coleman.Liau.short Flesch.Kincaid   Flesch Dale.Chall.old\n",
            "1           14.97726           14.97806      11.644247 39.18637      10.857128\n",
            "2           13.82166           13.82275      15.409902 29.99956      10.164633\n",
            "3           15.86381           15.86500      17.975000 18.43667      11.550979\n",
            "4           10.72641           10.72686       8.401905 55.60476       6.170119\n",
            "  Dale.Chall     SMOG   W St   C  Sy W3Sy W2Sy W_1Sy W6C W7C Wlt3Sy\n",
            "1  14.487796 13.55910  93  6 517 167   20   41    52  40  31     73\n",
            "2  14.738333 15.90319  51  2 267  91   10   19    32  21  16     41\n",
            "3   4.896364 17.87935  88  3 489 165   20   50    38  41  32     68\n",
            "4  44.188095 10.50422 105  9 519 173   15   49    56  40  31     90\n",
            "  W_wl.Dale.Chall ARI_rank Coleman.Liau.grade_rank Coleman.Liau.short_rank\n",
            "1              38        2                       3                       3\n",
            "2              17        3                       2                       2\n",
            "3              36        4                       4                       4\n",
            "4              13        1                       1                       1\n",
            "  Flesch.Kincaid_rank Flesch_rank Dale.Chall.old_rank Dale.Chall_rank SMOG_rank\n",
            "1                   2           3                   3               2         2\n",
            "2                   3           2                   2               3         3\n",
            "3                   4           1                   4               1         4\n",
            "4                   1           4                   1               4         1\n"
          ],
          "name": "stdout"
        }
      ]
    },
    {
      "cell_type": "markdown",
      "metadata": {
        "id": "D2mCapvZp5hl"
      },
      "source": [
        "Note that the results are not the same among the two libraries used (in Python and R)."
      ]
    },
    {
      "cell_type": "markdown",
      "metadata": {
        "id": "hXIWWYOciNfW"
      },
      "source": [
        "---------------------"
      ]
    },
    {
      "cell_type": "markdown",
      "metadata": {
        "id": "8J1aZKa-iLmx"
      },
      "source": [
        "Appendix"
      ]
    },
    {
      "cell_type": "code",
      "metadata": {
        "colab": {
          "base_uri": "https://localhost:8080/"
        },
        "id": "TJUDxya7bNNL",
        "outputId": "5b0596fc-a322-4c10-9d8d-7c43d4b78039"
      },
      "source": [
        "!jupyter-kernelspec list"
      ],
      "execution_count": null,
      "outputs": [
        {
          "output_type": "stream",
          "text": [
            "Available kernels:\n",
            "  ir         /usr/local/share/jupyter/kernels/ir\n",
            "  python2    /usr/local/share/jupyter/kernels/python2\n",
            "  python3    /usr/local/share/jupyter/kernels/python3\n"
          ],
          "name": "stdout"
        }
      ]
    }
  ]
}